{
 "cells": [
  {
   "cell_type": "code",
   "execution_count": 12,
   "metadata": {
    "tags": []
   },
   "outputs": [
    {
     "output_type": "stream",
     "name": "stdout",
     "text": "The autoreload extension is already loaded. To reload it, use:\n  %reload_ext autoreload\n"
    }
   ],
   "source": [
    "import torch\n",
    "from helper import synthetic_data\n",
    "from torch.utils.data import DataLoader\n",
    "from LinearRegressor import LinearRegressor\n",
    "\n",
    "%load_ext autoreload\n",
    "%autoreload 2"
   ]
  },
  {
   "cell_type": "code",
   "execution_count": 13,
   "metadata": {},
   "outputs": [],
   "source": [
    "# Generate Testing Data\n",
    "num_inputs = 2\n",
    "num_examples = 1000\n",
    "val_examples = 100\n",
    "\n",
    "true_w = torch.Tensor([2, -3.4])\n",
    "true_b = 4.2\n",
    "\n",
    "train_features, train_labels = synthetic_data(true_w, true_b, num_examples)\n",
    "train_labels = train_labels.reshape(-1, 1)\n",
    "\n",
    "val_features, val_labels = synthetic_data(true_w, true_b, val_examples)\n",
    "val_labels = val_labels.reshape(-1, 1)"
   ]
  },
  {
   "cell_type": "code",
   "execution_count": 14,
   "metadata": {},
   "outputs": [],
   "source": [
    "batch_size = 10\n",
    "dataset = DataLoader(\n",
    "    list(zip(train_features, train_labels)), \n",
    "    batch_size=batch_size, \n",
    "    shuffle=True\n",
    ")"
   ]
  },
  {
   "cell_type": "code",
   "execution_count": 15,
   "metadata": {
    "tags": []
   },
   "outputs": [
    {
     "output_type": "stream",
     "name": "stdout",
     "text": "[epoch 1, batch 20] loss: 13.389100337028504\n[epoch 1, batch 40] loss: 0.9619115110486746\n[epoch 1, batch 60] loss: 0.07599612749181688\n[epoch 1, batch 80] loss: 0.005195731605635956\n[epoch 1, batch 100] loss: 0.0005677039429428987\n[epoch 2, batch 20] loss: 0.00011957079550484195\n[epoch 2, batch 40] loss: 0.00010137180165656901\n[epoch 2, batch 60] loss: 9.46693553487421e-05\n[epoch 2, batch 80] loss: 9.291574515373213e-05\n[epoch 2, batch 100] loss: 8.235982222686289e-05\n[epoch 3, batch 20] loss: 8.975042292149737e-05\n[epoch 3, batch 40] loss: 9.167620683001588e-05\n[epoch 3, batch 60] loss: 9.630301283323207e-05\n[epoch 3, batch 80] loss: 9.094142606045353e-05\n[epoch 3, batch 100] loss: 8.685547581990249e-05\n[epoch 4, batch 20] loss: 7.33641514671035e-05\n[epoch 4, batch 40] loss: 9.498117960902164e-05\n[epoch 4, batch 60] loss: 0.00010156988973903935\n[epoch 4, batch 80] loss: 9.054970596480416e-05\n[epoch 4, batch 100] loss: 9.562409359205048e-05\n[epoch 5, batch 20] loss: 8.219617866416229e-05\n[epoch 5, batch 40] loss: 8.870532265063958e-05\n[epoch 5, batch 60] loss: 8.560718379158061e-05\n[epoch 5, batch 80] loss: 9.746077503223206e-05\n[epoch 5, batch 100] loss: 0.00010270079110341612\nFinished Training\n"
    },
    {
     "output_type": "execute_result",
     "data": {
      "text/plain": "LinearRegressor(\n  (fc1): Linear(in_features=2, out_features=1, bias=True)\n  (criterion): MSELoss()\n)"
     },
     "metadata": {},
     "execution_count": 15
    }
   ],
   "source": [
    "lrNet = LinearRegressor(num_inputs, True)\n",
    "lrNet.initialize()\n",
    "lrNet.train(dataset, epochs=5)"
   ]
  },
  {
   "cell_type": "code",
   "execution_count": 16,
   "metadata": {
    "tags": []
   },
   "outputs": [
    {
     "output_type": "stream",
     "name": "stdout",
     "text": "Training Loss: 0.00009\n\nValidation Loss: 0.00009\n\nModel Weights: \ntensor([[ 2.0006, -3.3999]])\nModel Bias: \ntensor([4.1998])\n\nTrue Weights: \ntensor([ 2.0000, -3.4000])\nTrue Bias: \n4.2\n\n"
    }
   ],
   "source": [
    "print(f\"Training Loss: {lrNet.criterion(lrNet(train_features), train_labels).data:.5f}\\n\")\n",
    "print(f\"Validation Loss: {lrNet.criterion(lrNet(val_features), val_labels).data:.5f}\\n\")\n",
    "\n",
    "print(f\"Model Weights: \\n{lrNet.fc1.weight.data}\")\n",
    "print(f\"Model Bias: \\n{lrNet.fc1.bias.data}\\n\")\n",
    "\n",
    "print(f\"True Weights: \\n{true_w}\")\n",
    "print(f\"True Bias: \\n{true_b}\\n\")"
   ]
  },
  {
   "cell_type": "code",
   "execution_count": null,
   "metadata": {},
   "outputs": [],
   "source": []
  }
 ],
 "metadata": {
  "language_info": {
   "codemirror_mode": {
    "name": "ipython",
    "version": 3
   },
   "file_extension": ".py",
   "mimetype": "text/x-python",
   "name": "python",
   "nbconvert_exporter": "python",
   "pygments_lexer": "ipython3",
   "version": 3
  },
  "orig_nbformat": 2,
  "kernelspec": {
   "name": "python_defaultSpec_1591950647662",
   "display_name": "Python 3.8.3 64-bit ('pytorch': conda)"
  }
 },
 "nbformat": 4,
 "nbformat_minor": 2
}