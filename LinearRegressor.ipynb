{
 "cells": [
  {
   "cell_type": "code",
   "execution_count": 34,
   "metadata": {
    "tags": []
   },
   "outputs": [
    {
     "output_type": "stream",
     "name": "stdout",
     "text": "The autoreload extension is already loaded. To reload it, use:\n  %reload_ext autoreload\n"
    }
   ],
   "source": [
    "import torch\n",
    "from helper import synthetic_data\n",
    "from torch.utils.data import DataLoader\n",
    "from LinearRegressor import LinearRegressor\n",
    "\n",
    "%load_ext autoreload\n",
    "%autoreload 2"
   ]
  },
  {
   "cell_type": "code",
   "execution_count": 35,
   "metadata": {},
   "outputs": [],
   "source": [
    "# Generate Testing Data\n",
    "num_inputs = 2\n",
    "num_examples = 1000\n",
    "val_examples = 100\n",
    "\n",
    "true_w = torch.Tensor([2, -3.4])\n",
    "true_b = 4.2\n",
    "\n",
    "train_features, train_labels = synthetic_data(true_w, true_b, num_examples)\n",
    "train_labels = train_labels.reshape(-1, 1)\n",
    "\n",
    "val_features, val_labels = synthetic_data(true_w, true_b, val_examples)\n",
    "val_labels = val_labels.reshape(-1, 1)"
   ]
  },
  {
   "cell_type": "code",
   "execution_count": 36,
   "metadata": {},
   "outputs": [],
   "source": [
    "batch_size = 10\n",
    "dataset = DataLoader(\n",
    "    list(zip(train_features, train_labels)), \n",
    "    batch_size=batch_size, \n",
    "    shuffle=True\n",
    ")"
   ]
  },
  {
   "cell_type": "code",
   "execution_count": 37,
   "metadata": {
    "tags": []
   },
   "outputs": [
    {
     "output_type": "stream",
     "name": "stdout",
     "text": "[epoch 1, batch 20] loss: 14.26408256292343\n[epoch 1, batch 40] loss: 1.0169611148536206\n[epoch 1, batch 60] loss: 0.08830916071310639\n[epoch 1, batch 80] loss: 0.007786008226685226\n[epoch 1, batch 100] loss: 0.0007235627883346752\n[epoch 2, batch 20] loss: 0.0001661675651121186\n[epoch 2, batch 40] loss: 0.00011112000884168083\n[epoch 2, batch 60] loss: 9.202884266414912e-05\n[epoch 2, batch 80] loss: 0.00010175279439863515\n[epoch 2, batch 100] loss: 0.0001116107590860338\n[epoch 3, batch 20] loss: 9.230825066879334e-05\n[epoch 3, batch 40] loss: 9.692205539977295e-05\n[epoch 3, batch 60] loss: 0.00010474485497979913\n[epoch 3, batch 80] loss: 0.00010102117075803108\n[epoch 3, batch 100] loss: 0.00012542888434836642\n[epoch 4, batch 20] loss: 9.307851455560012e-05\n[epoch 4, batch 40] loss: 0.00010205353692072094\n[epoch 4, batch 60] loss: 0.00011490196175145684\n[epoch 4, batch 80] loss: 0.00010324705053790239\n[epoch 4, batch 100] loss: 0.0001076043432476581\n[epoch 5, batch 20] loss: 0.00010723264495027252\n[epoch 5, batch 40] loss: 0.00010273037905790261\n[epoch 5, batch 60] loss: 0.00010295973588654306\n[epoch 5, batch 80] loss: 9.777265804586933e-05\n[epoch 5, batch 100] loss: 0.00011044283792216447\nFinished Training\n"
    },
    {
     "output_type": "execute_result",
     "data": {
      "text/plain": "LinearRegressor(\n  (fc1): Linear(in_features=2, out_features=1, bias=True)\n  (criterion): MSELoss()\n)"
     },
     "metadata": {},
     "execution_count": 37
    }
   ],
   "source": [
    "lrNet = LinearRegressor(num_inputs, True)\n",
    "lrNet.initialize()\n",
    "lrNet.train(dataset, epochs=5)"
   ]
  },
  {
   "cell_type": "code",
   "execution_count": 38,
   "metadata": {
    "tags": []
   },
   "outputs": [
    {
     "output_type": "stream",
     "name": "stdout",
     "text": "Training Loss: 0.00010\n\nValidation Loss: 0.00011\n\nModel Weights: \ntensor([[ 1.9992, -3.4003]])\nModel Bias: \ntensor([4.1998])\n\nTrue Weights: \ntensor([ 2.0000, -3.4000])\nTrue Bias: \n4.2\n\n"
    }
   ],
   "source": [
    "print(f\"Training Loss: {lrNet.criterion(lrNet(train_features), train_labels).data:.5f}\\n\")\n",
    "print(f\"Validation Loss: {lrNet.criterion(lrNet(val_features), val_labels).data:.5f}\\n\")\n",
    "\n",
    "print(f\"Model Weights: \\n{lrNet[0].weight.data}\")\n",
    "print(f\"Model Bias: \\n{lrNet[0].bias.data}\\n\")\n",
    "\n",
    "print(f\"True Weights: \\n{true_w}\")\n",
    "print(f\"True Bias: \\n{true_b}\\n\")"
   ]
  }
 ],
 "metadata": {
  "language_info": {
   "codemirror_mode": {
    "name": "ipython",
    "version": 3
   },
   "file_extension": ".py",
   "mimetype": "text/x-python",
   "name": "python",
   "nbconvert_exporter": "python",
   "pygments_lexer": "ipython3",
   "version": 3
  },
  "orig_nbformat": 2,
  "kernelspec": {
   "name": "python_defaultSpec_1591773407419",
   "display_name": "Python 3.8.3 64-bit ('pytorch': conda)"
  }
 },
 "nbformat": 4,
 "nbformat_minor": 2
}