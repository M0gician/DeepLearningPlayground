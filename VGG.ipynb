{
 "cells": [
  {
   "cell_type": "code",
   "execution_count": 7,
   "metadata": {
    "collapsed": true
   },
   "outputs": [
    {
     "name": "stdout",
     "output_type": "stream",
     "text": [
      "The autoreload extension is already loaded. To reload it, use:\n",
      "  %reload_ext autoreload\n"
     ]
    }
   ],
   "source": [
    "import torch\n",
    "from torch.optim import SGD, Adam\n",
    "from VGG import VGG\n",
    "from helper import load_tiny_imagenet\n",
    "from helper import evaluate_accuracy, evaluate_loss\n",
    "\n",
    "%load_ext autoreload\n",
    "%autoreload 2"
   ]
  },
  {
   "cell_type": "code",
   "execution_count": 2,
   "outputs": [
    {
     "name": "stderr",
     "output_type": "stream",
     "text": [
      "C:\\tools\\Anaconda3\\envs\\pytorch\\lib\\site-packages\\torchvision\\transforms\\transforms.py:210: UserWarning: The use of the transforms.Scale transform is deprecated, please use transforms.Resize instead.\n",
      "  warnings.warn(\"The use of the transforms.Scale transform is deprecated, \" +\n"
     ]
    }
   ],
   "source": [
    "# Download: http://cs231n.stanford.edu/tiny-imagenet-200.zip\n",
    "train, val, test = load_tiny_imagenet(batch_size=64).values()"
   ],
   "metadata": {
    "collapsed": false,
    "pycharm": {
     "name": "#%%\n"
    }
   }
  },
  {
   "cell_type": "code",
   "execution_count": 3,
   "outputs": [],
   "source": [
    "torch.cuda.empty_cache()"
   ],
   "metadata": {
    "collapsed": false,
    "pycharm": {
     "name": "#%%\n"
    }
   }
  },
  {
   "cell_type": "code",
   "execution_count": 8,
   "outputs": [],
   "source": [
    "vgg11 = VGG(\n",
    "    block_size=1,\n",
    "    block_inc=1,\n",
    "    num_class=100,\n",
    "    verbose=True\n",
    ")\n",
    "#\n",
    "# vgg16 = VGG(\n",
    "#     block_size=2,\n",
    "#     block_inc=1,\n",
    "#     num_class=100,\n",
    "#     verbose=True\n",
    "# )\n",
    "#\n",
    "# vgg19 = VGG(\n",
    "#     block_size=2,\n",
    "#     block_inc=2,\n",
    "#     num_class=100,\n",
    "#     verbose=True\n",
    "# )"
   ],
   "metadata": {
    "collapsed": false,
    "pycharm": {
     "name": "#%%\n"
    }
   }
  },
  {
   "cell_type": "code",
   "execution_count": 9,
   "outputs": [],
   "source": [
    "vgg11.initialize()"
   ],
   "metadata": {
    "collapsed": false,
    "pycharm": {
     "name": "#%%\n"
    }
   }
  },
  {
   "cell_type": "code",
   "execution_count": 5,
   "outputs": [
    {
     "ename": "FileNotFoundError",
     "evalue": "[Errno 2] No such file or directory: 'C:\\\\git\\\\DeepLearningPlayground\\\\vgg11-wgt2.pth'",
     "output_type": "error",
     "traceback": [
      "\u001B[1;31m---------------------------------------------------------------------------\u001B[0m",
      "\u001B[1;31mFileNotFoundError\u001B[0m                         Traceback (most recent call last)",
      "\u001B[1;32m<ipython-input-5-524cb6583e77>\u001B[0m in \u001B[0;36m<module>\u001B[1;34m\u001B[0m\n\u001B[1;32m----> 1\u001B[1;33m \u001B[0mcheckpoint\u001B[0m \u001B[1;33m=\u001B[0m \u001B[0mtorch\u001B[0m\u001B[1;33m.\u001B[0m\u001B[0mload\u001B[0m\u001B[1;33m(\u001B[0m\u001B[1;34m\"C:\\\\git\\\\DeepLearningPlayground\\\\vgg11-wgt2.pth\"\u001B[0m\u001B[1;33m)\u001B[0m\u001B[1;33m\u001B[0m\u001B[1;33m\u001B[0m\u001B[0m\n\u001B[0m\u001B[0;32m      2\u001B[0m \u001B[0mvgg11\u001B[0m\u001B[1;33m.\u001B[0m\u001B[0mload_state_dict\u001B[0m\u001B[1;33m(\u001B[0m\u001B[0mcheckpoint\u001B[0m\u001B[1;33m[\u001B[0m\u001B[1;34m'model_state_dict'\u001B[0m\u001B[1;33m]\u001B[0m\u001B[1;33m)\u001B[0m\u001B[1;33m\u001B[0m\u001B[1;33m\u001B[0m\u001B[0m\n\u001B[0;32m      3\u001B[0m \u001B[0mvgg11\u001B[0m\u001B[1;33m.\u001B[0m\u001B[0moptimizer\u001B[0m\u001B[1;33m.\u001B[0m\u001B[0mload_state_dict\u001B[0m\u001B[1;33m(\u001B[0m\u001B[0mcheckpoint\u001B[0m\u001B[1;33m[\u001B[0m\u001B[1;34m'optimizer_state_dict'\u001B[0m\u001B[1;33m]\u001B[0m\u001B[1;33m)\u001B[0m\u001B[1;33m\u001B[0m\u001B[1;33m\u001B[0m\u001B[0m\n\u001B[0;32m      4\u001B[0m \u001B[1;33m\u001B[0m\u001B[0m\n",
      "\u001B[1;32mC:\\tools\\Anaconda3\\envs\\pytorch\\lib\\site-packages\\torch\\serialization.py\u001B[0m in \u001B[0;36mload\u001B[1;34m(f, map_location, pickle_module, **pickle_load_args)\u001B[0m\n\u001B[0;32m    582\u001B[0m         \u001B[0mpickle_load_args\u001B[0m\u001B[1;33m[\u001B[0m\u001B[1;34m'encoding'\u001B[0m\u001B[1;33m]\u001B[0m \u001B[1;33m=\u001B[0m \u001B[1;34m'utf-8'\u001B[0m\u001B[1;33m\u001B[0m\u001B[1;33m\u001B[0m\u001B[0m\n\u001B[0;32m    583\u001B[0m \u001B[1;33m\u001B[0m\u001B[0m\n\u001B[1;32m--> 584\u001B[1;33m     \u001B[1;32mwith\u001B[0m \u001B[0m_open_file_like\u001B[0m\u001B[1;33m(\u001B[0m\u001B[0mf\u001B[0m\u001B[1;33m,\u001B[0m \u001B[1;34m'rb'\u001B[0m\u001B[1;33m)\u001B[0m \u001B[1;32mas\u001B[0m \u001B[0mopened_file\u001B[0m\u001B[1;33m:\u001B[0m\u001B[1;33m\u001B[0m\u001B[1;33m\u001B[0m\u001B[0m\n\u001B[0m\u001B[0;32m    585\u001B[0m         \u001B[1;32mif\u001B[0m \u001B[0m_is_zipfile\u001B[0m\u001B[1;33m(\u001B[0m\u001B[0mopened_file\u001B[0m\u001B[1;33m)\u001B[0m\u001B[1;33m:\u001B[0m\u001B[1;33m\u001B[0m\u001B[1;33m\u001B[0m\u001B[0m\n\u001B[0;32m    586\u001B[0m             \u001B[1;32mwith\u001B[0m \u001B[0m_open_zipfile_reader\u001B[0m\u001B[1;33m(\u001B[0m\u001B[0mf\u001B[0m\u001B[1;33m)\u001B[0m \u001B[1;32mas\u001B[0m \u001B[0mopened_zipfile\u001B[0m\u001B[1;33m:\u001B[0m\u001B[1;33m\u001B[0m\u001B[1;33m\u001B[0m\u001B[0m\n",
      "\u001B[1;32mC:\\tools\\Anaconda3\\envs\\pytorch\\lib\\site-packages\\torch\\serialization.py\u001B[0m in \u001B[0;36m_open_file_like\u001B[1;34m(name_or_buffer, mode)\u001B[0m\n\u001B[0;32m    232\u001B[0m \u001B[1;32mdef\u001B[0m \u001B[0m_open_file_like\u001B[0m\u001B[1;33m(\u001B[0m\u001B[0mname_or_buffer\u001B[0m\u001B[1;33m,\u001B[0m \u001B[0mmode\u001B[0m\u001B[1;33m)\u001B[0m\u001B[1;33m:\u001B[0m\u001B[1;33m\u001B[0m\u001B[1;33m\u001B[0m\u001B[0m\n\u001B[0;32m    233\u001B[0m     \u001B[1;32mif\u001B[0m \u001B[0m_is_path\u001B[0m\u001B[1;33m(\u001B[0m\u001B[0mname_or_buffer\u001B[0m\u001B[1;33m)\u001B[0m\u001B[1;33m:\u001B[0m\u001B[1;33m\u001B[0m\u001B[1;33m\u001B[0m\u001B[0m\n\u001B[1;32m--> 234\u001B[1;33m         \u001B[1;32mreturn\u001B[0m \u001B[0m_open_file\u001B[0m\u001B[1;33m(\u001B[0m\u001B[0mname_or_buffer\u001B[0m\u001B[1;33m,\u001B[0m \u001B[0mmode\u001B[0m\u001B[1;33m)\u001B[0m\u001B[1;33m\u001B[0m\u001B[1;33m\u001B[0m\u001B[0m\n\u001B[0m\u001B[0;32m    235\u001B[0m     \u001B[1;32melse\u001B[0m\u001B[1;33m:\u001B[0m\u001B[1;33m\u001B[0m\u001B[1;33m\u001B[0m\u001B[0m\n\u001B[0;32m    236\u001B[0m         \u001B[1;32mif\u001B[0m \u001B[1;34m'w'\u001B[0m \u001B[1;32min\u001B[0m \u001B[0mmode\u001B[0m\u001B[1;33m:\u001B[0m\u001B[1;33m\u001B[0m\u001B[1;33m\u001B[0m\u001B[0m\n",
      "\u001B[1;32mC:\\tools\\Anaconda3\\envs\\pytorch\\lib\\site-packages\\torch\\serialization.py\u001B[0m in \u001B[0;36m__init__\u001B[1;34m(self, name, mode)\u001B[0m\n\u001B[0;32m    213\u001B[0m \u001B[1;32mclass\u001B[0m \u001B[0m_open_file\u001B[0m\u001B[1;33m(\u001B[0m\u001B[0m_opener\u001B[0m\u001B[1;33m)\u001B[0m\u001B[1;33m:\u001B[0m\u001B[1;33m\u001B[0m\u001B[1;33m\u001B[0m\u001B[0m\n\u001B[0;32m    214\u001B[0m     \u001B[1;32mdef\u001B[0m \u001B[0m__init__\u001B[0m\u001B[1;33m(\u001B[0m\u001B[0mself\u001B[0m\u001B[1;33m,\u001B[0m \u001B[0mname\u001B[0m\u001B[1;33m,\u001B[0m \u001B[0mmode\u001B[0m\u001B[1;33m)\u001B[0m\u001B[1;33m:\u001B[0m\u001B[1;33m\u001B[0m\u001B[1;33m\u001B[0m\u001B[0m\n\u001B[1;32m--> 215\u001B[1;33m         \u001B[0msuper\u001B[0m\u001B[1;33m(\u001B[0m\u001B[0m_open_file\u001B[0m\u001B[1;33m,\u001B[0m \u001B[0mself\u001B[0m\u001B[1;33m)\u001B[0m\u001B[1;33m.\u001B[0m\u001B[0m__init__\u001B[0m\u001B[1;33m(\u001B[0m\u001B[0mopen\u001B[0m\u001B[1;33m(\u001B[0m\u001B[0mname\u001B[0m\u001B[1;33m,\u001B[0m \u001B[0mmode\u001B[0m\u001B[1;33m)\u001B[0m\u001B[1;33m)\u001B[0m\u001B[1;33m\u001B[0m\u001B[1;33m\u001B[0m\u001B[0m\n\u001B[0m\u001B[0;32m    216\u001B[0m \u001B[1;33m\u001B[0m\u001B[0m\n\u001B[0;32m    217\u001B[0m     \u001B[1;32mdef\u001B[0m \u001B[0m__exit__\u001B[0m\u001B[1;33m(\u001B[0m\u001B[0mself\u001B[0m\u001B[1;33m,\u001B[0m \u001B[1;33m*\u001B[0m\u001B[0margs\u001B[0m\u001B[1;33m)\u001B[0m\u001B[1;33m:\u001B[0m\u001B[1;33m\u001B[0m\u001B[1;33m\u001B[0m\u001B[0m\n",
      "\u001B[1;31mFileNotFoundError\u001B[0m: [Errno 2] No such file or directory: 'C:\\\\git\\\\DeepLearningPlayground\\\\vgg11-wgt2.pth'"
     ]
    }
   ],
   "source": [
    "checkpoint = torch.load(\"C:\\\\git\\\\DeepLearningPlayground\\\\vgg11-wgt2.pth\")\n",
    "vgg11.load_state_dict(checkpoint['model_state_dict'])\n",
    "vgg11.optimizer.load_state_dict(checkpoint['optimizer_state_dict'])"
   ],
   "metadata": {
    "collapsed": false,
    "pycharm": {
     "name": "#%%\n"
    }
   }
  },
  {
   "cell_type": "code",
   "execution_count": null,
   "outputs": [
    {
     "name": "stdout",
     "output_type": "stream",
     "text": [
      "[epoch 1, batch 312] loss: 4.5672669135607205\n",
      "[epoch 1, batch 624] loss: 4.572136363922021\n",
      "[epoch 1, batch 936] loss: 4.573025472653218\n",
      "[epoch 1, batch 1248] loss: 4.5655595522660475\n",
      "[epoch 1, batch 1560] loss: 4.556357420407808\n",
      "[epoch 2, batch 312] loss: 4.592479369579217\n",
      "[epoch 2, batch 624] loss: 4.544867104444748\n",
      "[epoch 2, batch 936] loss: 4.538754504460555\n",
      "[epoch 2, batch 1248] loss: 4.521435026939098\n",
      "[epoch 2, batch 1560] loss: 4.522253193916419\n",
      "[epoch 3, batch 312] loss: 4.557456942705008\n",
      "[epoch 3, batch 624] loss: 4.51124567251939\n",
      "[epoch 3, batch 936] loss: 4.49785300095876\n",
      "[epoch 3, batch 1248] loss: 4.49915550610958\n",
      "[epoch 3, batch 1560] loss: 4.491199366557292\n",
      "[epoch 4, batch 312] loss: 4.530942097688333\n",
      "[epoch 4, batch 624] loss: 4.480558132513975\n",
      "[epoch 4, batch 936] loss: 4.489087205666762\n",
      "[epoch 4, batch 1248] loss: 4.485165464572417\n",
      "[epoch 4, batch 1560] loss: 4.482470863904709\n",
      "[epoch 5, batch 312] loss: 4.517719505689083\n",
      "[epoch 5, batch 624] loss: 4.472969524371318\n",
      "[epoch 5, batch 936] loss: 4.478175366536165\n",
      "[epoch 5, batch 1248] loss: 4.456395095739609\n",
      "[epoch 5, batch 1560] loss: 4.45678131091289\n",
      "[epoch 6, batch 312] loss: 4.493885070849688\n",
      "[epoch 6, batch 624] loss: 4.453249700558492\n",
      "[epoch 6, batch 936] loss: 4.451337482684698\n",
      "[epoch 6, batch 1248] loss: 4.453642174219474\n",
      "[epoch 6, batch 1560] loss: 4.4347330423501825\n",
      "[epoch 7, batch 312] loss: 4.473746937054854\n",
      "[epoch 7, batch 624] loss: 4.43711563715568\n",
      "[epoch 7, batch 936] loss: 4.435271955453432\n",
      "[epoch 7, batch 1248] loss: 4.416952550411224\n",
      "[epoch 7, batch 1560] loss: 4.417297613926423\n",
      "[epoch 8, batch 312] loss: 4.457015447127513\n"
     ]
    }
   ],
   "source": [
    "vgg11.train(mode=True, data=train, epochs=15)"
   ],
   "metadata": {
    "collapsed": false,
    "pycharm": {
     "name": "#%%\n",
     "is_executing": true
    }
   }
  },
  {
   "cell_type": "code",
   "execution_count": 12,
   "outputs": [],
   "source": [
    "torch.save(\n",
    "    {\n",
    "        'epoch': 56,\n",
    "        'model_state_dict': vgg11.state_dict(),\n",
    "        'optimizer_state_dict': vgg11.optimizer.state_dict()\n",
    "    },\n",
    "    \"C:\\\\git\\\\DeepLearningPlayground\\\\vgg11-wgt.pth\"\n",
    ")"
   ],
   "metadata": {
    "collapsed": false,
    "pycharm": {
     "name": "#%%\n"
    }
   }
  },
  {
   "cell_type": "code",
   "execution_count": null,
   "outputs": [],
   "source": [
    "training_loss = evaluate_loss(vgg11, train)\n",
    "validation_loss = evaluate_loss(vgg11, test)\n",
    "\n",
    "print(f\"Model: VGG-11 (Original)\")\n",
    "print(f\"Training Loss ({len(train.dataset)} samples): \\n{training_loss}\")\n",
    "print(f\"Validation Loss ({len(test.dataset)} samples): \\n{validation_loss}\")"
   ],
   "metadata": {
    "collapsed": false,
    "pycharm": {
     "name": "#%%\n"
    }
   }
  },
  {
   "cell_type": "code",
   "execution_count": 5,
   "outputs": [
    {
     "name": "stdout",
     "output_type": "stream",
     "text": [
      "Model: VGG-11 (Original)\n",
      "Validation accuracy (10000 samples): \n",
      "0.0148\n"
     ]
    }
   ],
   "source": [
    "vgg11.eval()\n",
    "# training_accuracy = evaluate_accuracy(vgg11, train)\n",
    "validation_accuracy = evaluate_accuracy(vgg11, test)\n",
    "\n",
    "print(f\"Model: VGG-11 (Original)\")\n",
    "# print(f\"Training accuracy ({len(train.dataset)} samples): \\n{training_accuracy}\")\n",
    "print(f\"Validation accuracy ({len(test.dataset)} samples): \\n{validation_accuracy}\")"
   ],
   "metadata": {
    "collapsed": false,
    "pycharm": {
     "name": "#%%\n"
    }
   }
  }
 ],
 "metadata": {
  "kernelspec": {
   "name": "pycharm-2e9ef25e",
   "language": "python",
   "display_name": "PyCharm (DeepLearningPlayground)"
  },
  "language_info": {
   "codemirror_mode": {
    "name": "ipython",
    "version": 2
   },
   "file_extension": ".py",
   "mimetype": "text/x-python",
   "name": "python",
   "nbconvert_exporter": "python",
   "pygments_lexer": "ipython2",
   "version": "2.7.6"
  }
 },
 "nbformat": 4,
 "nbformat_minor": 0
}